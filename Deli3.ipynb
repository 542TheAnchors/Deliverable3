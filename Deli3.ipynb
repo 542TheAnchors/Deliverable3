{
 "cells": [
  {
   "cell_type": "code",
   "execution_count": null,
   "id": "8602ac22",
   "metadata": {},
   "outputs": [],
   "source": [
    "##Deliverable 3 - Social Simulation - Rock, paper, scissors, lizard, Spock\n",
    "strategies=['Rock','Paper','Scissors','Lizard','Spock']\n",
    "\n",
    "payoff={('Rock','Paper'):(0,1),\n",
    "        ('Paper','Rock'):(1,0),\n",
    "        ('Rock','Scissors'):(1,0),\n",
    "        ('Scissors','Rock'):(0,1),\n",
    "        \n",
    "        ('Paper','Scissors'):(0,1),\n",
    "        ('Scissors','Paper'):(1,0),\n",
    "        ('Rock','Rock'):(0,0),\n",
    "        ('Paper','Paper'):(0,0),\n",
    "        ('Scissors','Scissors'):(0,0),\n",
    "       ('Scissors','Spock'):(0,1),\n",
    "       ('Rock','Spock'):(0,1),\n",
    "       ('Lizard','Spock'):(1,0),\n",
    "       ('Paper','Spock'):(1,0),\n",
    "       ('Lizard','Paper'):(1,0),\n",
    "       ('Rock','Lizard'):(1,0),\n",
    "       ('Scissors','Lizard'):(1,0),\n",
    "       ('Spock','Spock'):(0,0),\n",
    "       ('Lizard','Lizard'):(0,0)}\n"
   ]
  },
  {
   "cell_type": "code",
   "execution_count": null,
   "id": "3bbc935f",
   "metadata": {},
   "outputs": [],
   "source": [
    "Players=[{'name':'John','score':0,'strategy':None},\n",
    "         {'name':'Mary','score':0,'strategy':None}]\n"
   ]
  },
  {
   "cell_type": "code",
   "execution_count": null,
   "id": "aa7e89c3",
   "metadata": {},
   "outputs": [],
   "source": [
    "from random import choice\n",
    "\n",
    "#simples: choose randomly\n",
    "\n",
    "choice(strategies)"
   ]
  },
  {
   "cell_type": "code",
   "execution_count": null,
   "id": "58509081",
   "metadata": {},
   "outputs": [],
   "source": [
    "Players[0]['strategy']=choice(strategies)\n",
    "Players[1]['strategy']=choice(strategies)"
   ]
  },
  {
   "cell_type": "code",
   "execution_count": null,
   "id": "9ac043ce",
   "metadata": {},
   "outputs": [],
   "source": [
    "Players"
   ]
  },
  {
   "cell_type": "code",
   "execution_count": null,
   "id": "49744928",
   "metadata": {},
   "outputs": [],
   "source": [
    "Players[0]['strategy'],Players[1]['strategy']"
   ]
  },
  {
   "cell_type": "code",
   "execution_count": null,
   "id": "7014f96d",
   "metadata": {},
   "outputs": [],
   "source": [
    "# social result of individual decision\n",
    "result = payoff[Players[0]['strategy'],Players[1]['strategy']]\n",
    "result"
   ]
  },
  {
   "cell_type": "code",
   "execution_count": null,
   "id": "fdaf072e",
   "metadata": {},
   "outputs": [],
   "source": [
    "# update agents situation\n",
    "Players[0]['score']+=result[0]\n",
    "Players[1]['score']+=result[1]"
   ]
  },
  {
   "cell_type": "code",
   "execution_count": null,
   "id": "ecc4e623",
   "metadata": {},
   "outputs": [],
   "source": [
    "# current agent situation\n",
    "Players"
   ]
  },
  {
   "cell_type": "code",
   "execution_count": null,
   "id": "fbc4e55b",
   "metadata": {},
   "outputs": [],
   "source": [
    "import pandas as pd \n",
    "\n",
    "socialResults=pd.DataFrame((Players[0], Players[1]))\n",
    "socialResults"
   ]
  },
  {
   "cell_type": "code",
   "execution_count": null,
   "id": "8acc5bb4",
   "metadata": {},
   "outputs": [],
   "source": [
    "winnerScore=socialResults.score.max()\n",
    "\n",
    "#social outcome\n",
    "socialResults[socialResults.score==winnerScore]"
   ]
  },
  {
   "cell_type": "code",
   "execution_count": null,
   "id": "7146bd60",
   "metadata": {},
   "outputs": [],
   "source": [
    "# names of players\n",
    "names=['Jim','Jane','Peter','Zoe']"
   ]
  },
  {
   "cell_type": "code",
   "execution_count": null,
   "id": "1cb16308",
   "metadata": {},
   "outputs": [],
   "source": [
    "# setting up players\n",
    "society=[{'name':n,'score':0,'strategy':None} for n in names]"
   ]
  },
  {
   "cell_type": "code",
   "execution_count": null,
   "id": "496f0341",
   "metadata": {},
   "outputs": [],
   "source": [
    "# each player a dict:\n",
    "society"
   ]
  },
  {
   "cell_type": "code",
   "execution_count": null,
   "id": "db68ee06",
   "metadata": {},
   "outputs": [],
   "source": [
    "import itertools \n",
    "\n",
    "# pair is a tuple of dicts\n",
    "for pair in itertools.combinations(society,2):\n",
    "    print(pair)"
   ]
  },
  {
   "cell_type": "code",
   "execution_count": null,
   "id": "1131b3dc",
   "metadata": {},
   "outputs": [],
   "source": [
    "import itertools \n",
    "\n",
    "# each dict\n",
    "for player1,player2 in itertools.combinations(society,2):\n",
    "    print(player1,player2)"
   ]
  },
  {
   "cell_type": "code",
   "execution_count": null,
   "id": "83f5a89f",
   "metadata": {},
   "outputs": [],
   "source": [
    "# resetting society\n",
    "society=[{'name':n,'score':0,'strategy':None} for n in names]\n",
    "\n",
    "# several rounds\n",
    "for aRound in range(100):\n",
    "    \n",
    "    # en each round:\n",
    "    for player1,player2 in itertools.combinations(society,2):\n",
    "        # each chooses strategy\n",
    "        player1['strategy']=choice(strategies)\n",
    "        player2['strategy']=choice(strategies)\n",
    "        # result from strategy chosen\n",
    "        result=payoff[player1['strategy'],player2['strategy']]\n",
    "        # update scores\n",
    "        player1['score']+=result[0]\n",
    "        player2['score']+=result[1]\n",
    "\n",
    "       "
   ]
  },
  {
   "cell_type": "code",
   "execution_count": null,
   "id": "2d6261ca",
   "metadata": {},
   "outputs": [],
   "source": [
    "# final situation\n",
    "society"
   ]
  },
  {
   "cell_type": "code",
   "execution_count": null,
   "id": "fb9a1d16",
   "metadata": {},
   "outputs": [],
   "source": [
    "# as a data frame\n",
    "socialResults=pd.DataFrame(society)\n",
    "socialResults"
   ]
  },
  {
   "cell_type": "code",
   "execution_count": null,
   "id": "7c460334",
   "metadata": {},
   "outputs": [],
   "source": [
    "winnerScore=socialResults.score.max()\n",
    "\n",
    "#social outcome\n",
    "socialResults[socialResults.score==winnerScore]"
   ]
  }
 ],
 "metadata": {
  "kernelspec": {
   "display_name": "Python 3 (ipykernel)",
   "language": "python",
   "name": "python3"
  },
  "language_info": {
   "codemirror_mode": {
    "name": "ipython",
    "version": 3
   },
   "file_extension": ".py",
   "mimetype": "text/x-python",
   "name": "python",
   "nbconvert_exporter": "python",
   "pygments_lexer": "ipython3",
   "version": "3.10.8"
  }
 },
 "nbformat": 4,
 "nbformat_minor": 5
}
