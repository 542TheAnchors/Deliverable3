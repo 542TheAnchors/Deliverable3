{
 "cells": [
  {
   "cell_type": "code",
   "execution_count": 1,
   "id": "8602ac22",
   "metadata": {},
   "outputs": [],
   "source": [
    "##Deliverable 3 - Social Simulation - Rock, paper, scissors, lizard, Spock\n",
    "strategies=['Rock','Paper','Scissors','Lizard','Spock']\n",
    "\n",
    "payoff={('Rock','Paper'):(0,1),\n",
    "        ('Paper','Rock'):(1,0),\n",
    "        ('Rock','Scissors'):(1,0),\n",
    "        ('Scissors','Rock'):(0,1),\n",
    "        ('Paper','Scissors'):(0,1),\n",
    "        ('Scissors','Paper'):(1,0),\n",
    "        ('Rock','Rock'):(0,0),\n",
    "        ('Paper','Paper'):(0,0),\n",
    "        ('Scissors','Scissors'):(0,0),\n",
    "        ('Scissors','Spock'):(0,1),\n",
    "        ('Spock','Scissors'):(1,0),\n",
    "        ('Rock','Spock'):(0,1),\n",
    "        ('Spock','Rock'):(1,0),\n",
    "        ('Lizard','Spock'):(1,0),\n",
    "        ('Spock','Lizard'):(0,1),\n",
    "        ('Paper','Spock'):(1,0),\n",
    "        ('Spock','Paper'):(0,1),\n",
    "        ('Lizard','Paper'):(1,0),\n",
    "        ('Paper','Lizard'):(0,1),\n",
    "        ('Rock','Lizard'):(1,0),\n",
    "        ('Lizard','Rock'):(0,1),\n",
    "        ('Scissors','Lizard'):(1,0),\n",
    "        ('Lizard','Scissors'):(0,1),\n",
    "        ('Spock','Spock'):(0,0),\n",
    "        ('Lizard','Lizard'):(0,0)}\n"
   ]
  },
  {
   "cell_type": "code",
   "execution_count": 2,
   "id": "3bbc935f",
   "metadata": {},
   "outputs": [],
   "source": [
    "Players=[{'name':'Tallis','score':0,'strategy':None},\n",
    "         {'name':'Sam','score':0,'strategy':None}]\n"
   ]
  },
  {
   "cell_type": "code",
   "execution_count": 3,
   "id": "aa7e89c3",
   "metadata": {},
   "outputs": [
    {
     "data": {
      "text/plain": [
       "'Spock'"
      ]
     },
     "execution_count": 3,
     "metadata": {},
     "output_type": "execute_result"
    }
   ],
   "source": [
    "from random import choice\n",
    "\n",
    "#simples: choose randomly\n",
    "\n",
    "choice(strategies)"
   ]
  },
  {
   "cell_type": "code",
   "execution_count": 4,
   "id": "58509081",
   "metadata": {},
   "outputs": [],
   "source": [
    "Players[0]['strategy']=choice(strategies)\n",
    "Players[1]['strategy']=choice(strategies)"
   ]
  },
  {
   "cell_type": "code",
   "execution_count": 5,
   "id": "9ac043ce",
   "metadata": {},
   "outputs": [
    {
     "data": {
      "text/plain": [
       "[{'name': 'Tallis', 'score': 0, 'strategy': 'Lizard'},\n",
       " {'name': 'Sam', 'score': 0, 'strategy': 'Scissors'}]"
      ]
     },
     "execution_count": 5,
     "metadata": {},
     "output_type": "execute_result"
    }
   ],
   "source": [
    "Players"
   ]
  },
  {
   "cell_type": "code",
   "execution_count": 6,
   "id": "49744928",
   "metadata": {},
   "outputs": [
    {
     "data": {
      "text/plain": [
       "('Lizard', 'Scissors')"
      ]
     },
     "execution_count": 6,
     "metadata": {},
     "output_type": "execute_result"
    }
   ],
   "source": [
    "Players[0]['strategy'],Players[1]['strategy']"
   ]
  },
  {
   "cell_type": "code",
   "execution_count": 7,
   "id": "7014f96d",
   "metadata": {},
   "outputs": [
    {
     "data": {
      "text/plain": [
       "(0, 1)"
      ]
     },
     "execution_count": 7,
     "metadata": {},
     "output_type": "execute_result"
    }
   ],
   "source": [
    "# social result of individual decision\n",
    "result = payoff[Players[0]['strategy'],Players[1]['strategy']]\n",
    "result"
   ]
  },
  {
   "cell_type": "code",
   "execution_count": 8,
   "id": "fdaf072e",
   "metadata": {},
   "outputs": [],
   "source": [
    "# update agents situation\n",
    "Players[0]['score']+=result[0]\n",
    "Players[1]['score']+=result[1]"
   ]
  },
  {
   "cell_type": "code",
   "execution_count": 9,
   "id": "ecc4e623",
   "metadata": {},
   "outputs": [
    {
     "data": {
      "text/plain": [
       "[{'name': 'Tallis', 'score': 0, 'strategy': 'Lizard'},\n",
       " {'name': 'Sam', 'score': 1, 'strategy': 'Scissors'}]"
      ]
     },
     "execution_count": 9,
     "metadata": {},
     "output_type": "execute_result"
    }
   ],
   "source": [
    "# current agent situation\n",
    "Players"
   ]
  },
  {
   "cell_type": "code",
   "execution_count": 10,
   "id": "fbc4e55b",
   "metadata": {},
   "outputs": [
    {
     "data": {
      "text/html": [
       "<div>\n",
       "<style scoped>\n",
       "    .dataframe tbody tr th:only-of-type {\n",
       "        vertical-align: middle;\n",
       "    }\n",
       "\n",
       "    .dataframe tbody tr th {\n",
       "        vertical-align: top;\n",
       "    }\n",
       "\n",
       "    .dataframe thead th {\n",
       "        text-align: right;\n",
       "    }\n",
       "</style>\n",
       "<table border=\"1\" class=\"dataframe\">\n",
       "  <thead>\n",
       "    <tr style=\"text-align: right;\">\n",
       "      <th></th>\n",
       "      <th>name</th>\n",
       "      <th>score</th>\n",
       "      <th>strategy</th>\n",
       "    </tr>\n",
       "  </thead>\n",
       "  <tbody>\n",
       "    <tr>\n",
       "      <th>0</th>\n",
       "      <td>Tallis</td>\n",
       "      <td>0</td>\n",
       "      <td>Lizard</td>\n",
       "    </tr>\n",
       "    <tr>\n",
       "      <th>1</th>\n",
       "      <td>Sam</td>\n",
       "      <td>1</td>\n",
       "      <td>Scissors</td>\n",
       "    </tr>\n",
       "  </tbody>\n",
       "</table>\n",
       "</div>"
      ],
      "text/plain": [
       "     name  score  strategy\n",
       "0  Tallis      0    Lizard\n",
       "1     Sam      1  Scissors"
      ]
     },
     "execution_count": 10,
     "metadata": {},
     "output_type": "execute_result"
    }
   ],
   "source": [
    "import pandas as pd \n",
    "\n",
    "socialResults=pd.DataFrame((Players[0], Players[1]))\n",
    "socialResults"
   ]
  },
  {
   "cell_type": "code",
   "execution_count": 11,
   "id": "8acc5bb4",
   "metadata": {},
   "outputs": [
    {
     "data": {
      "text/html": [
       "<div>\n",
       "<style scoped>\n",
       "    .dataframe tbody tr th:only-of-type {\n",
       "        vertical-align: middle;\n",
       "    }\n",
       "\n",
       "    .dataframe tbody tr th {\n",
       "        vertical-align: top;\n",
       "    }\n",
       "\n",
       "    .dataframe thead th {\n",
       "        text-align: right;\n",
       "    }\n",
       "</style>\n",
       "<table border=\"1\" class=\"dataframe\">\n",
       "  <thead>\n",
       "    <tr style=\"text-align: right;\">\n",
       "      <th></th>\n",
       "      <th>name</th>\n",
       "      <th>score</th>\n",
       "      <th>strategy</th>\n",
       "    </tr>\n",
       "  </thead>\n",
       "  <tbody>\n",
       "    <tr>\n",
       "      <th>1</th>\n",
       "      <td>Sam</td>\n",
       "      <td>1</td>\n",
       "      <td>Scissors</td>\n",
       "    </tr>\n",
       "  </tbody>\n",
       "</table>\n",
       "</div>"
      ],
      "text/plain": [
       "  name  score  strategy\n",
       "1  Sam      1  Scissors"
      ]
     },
     "execution_count": 11,
     "metadata": {},
     "output_type": "execute_result"
    }
   ],
   "source": [
    "winnerScore=socialResults.score.max()\n",
    "\n",
    "#social outcome\n",
    "socialResults[socialResults.score==winnerScore]"
   ]
  },
  {
   "cell_type": "code",
   "execution_count": 12,
   "id": "7146bd60",
   "metadata": {},
   "outputs": [],
   "source": [
    "# names of players\n",
    "names=['Tallis','Sam','Jose','Mark Ruffalo']"
   ]
  },
  {
   "cell_type": "code",
   "execution_count": 13,
   "id": "1cb16308",
   "metadata": {},
   "outputs": [],
   "source": [
    "# setting up players\n",
    "society=[{'name':n,'score':0,'strategy':None} for n in names]"
   ]
  },
  {
   "cell_type": "raw",
   "id": "2f6584a3",
   "metadata": {},
   "source": [
    "# each player a dict:\n",
    "society"
   ]
  },
  {
   "cell_type": "code",
   "execution_count": 14,
   "id": "db68ee06",
   "metadata": {},
   "outputs": [
    {
     "name": "stdout",
     "output_type": "stream",
     "text": [
      "({'name': 'Tallis', 'score': 0, 'strategy': None}, {'name': 'Sam', 'score': 0, 'strategy': None})\n",
      "({'name': 'Tallis', 'score': 0, 'strategy': None}, {'name': 'Jose', 'score': 0, 'strategy': None})\n",
      "({'name': 'Tallis', 'score': 0, 'strategy': None}, {'name': 'Mark Ruffalo', 'score': 0, 'strategy': None})\n",
      "({'name': 'Sam', 'score': 0, 'strategy': None}, {'name': 'Jose', 'score': 0, 'strategy': None})\n",
      "({'name': 'Sam', 'score': 0, 'strategy': None}, {'name': 'Mark Ruffalo', 'score': 0, 'strategy': None})\n",
      "({'name': 'Jose', 'score': 0, 'strategy': None}, {'name': 'Mark Ruffalo', 'score': 0, 'strategy': None})\n"
     ]
    }
   ],
   "source": [
    "import itertools \n",
    "\n",
    "# pair is a tuple of dicts\n",
    "for pair in itertools.combinations(society,2):\n",
    "    print(pair)"
   ]
  },
  {
   "cell_type": "code",
   "execution_count": 15,
   "id": "1131b3dc",
   "metadata": {},
   "outputs": [
    {
     "name": "stdout",
     "output_type": "stream",
     "text": [
      "{'name': 'Tallis', 'score': 0, 'strategy': None} {'name': 'Sam', 'score': 0, 'strategy': None}\n",
      "{'name': 'Tallis', 'score': 0, 'strategy': None} {'name': 'Jose', 'score': 0, 'strategy': None}\n",
      "{'name': 'Tallis', 'score': 0, 'strategy': None} {'name': 'Mark Ruffalo', 'score': 0, 'strategy': None}\n",
      "{'name': 'Sam', 'score': 0, 'strategy': None} {'name': 'Jose', 'score': 0, 'strategy': None}\n",
      "{'name': 'Sam', 'score': 0, 'strategy': None} {'name': 'Mark Ruffalo', 'score': 0, 'strategy': None}\n",
      "{'name': 'Jose', 'score': 0, 'strategy': None} {'name': 'Mark Ruffalo', 'score': 0, 'strategy': None}\n"
     ]
    }
   ],
   "source": [
    "import itertools \n",
    "\n",
    "# each dict\n",
    "for player1,player2 in itertools.combinations(society,2):\n",
    "    print(player1,player2)"
   ]
  },
  {
   "cell_type": "code",
   "execution_count": 16,
   "id": "83f5a89f",
   "metadata": {},
   "outputs": [],
   "source": [
    "# resetting society\n",
    "society=[{'name':n,'score':0,'strategy':None} for n in names]\n",
    "\n",
    "# several rounds\n",
    "for aRound in range(100):\n",
    "    \n",
    "    # en each round:\n",
    "    for player1,player2 in itertools.combinations(society,2):\n",
    "        # each chooses strategy\n",
    "        player1['strategy']=choice(strategies)\n",
    "        player2['strategy']=choice(strategies)\n",
    "        # result from strategy chosen\n",
    "        result=payoff[player1['strategy'],player2['strategy']]\n",
    "        # update scores\n",
    "        player1['score']+=result[0]\n",
    "        player2['score']+=result[1]\n",
    "\n",
    "       "
   ]
  },
  {
   "cell_type": "code",
   "execution_count": 17,
   "id": "2d6261ca",
   "metadata": {},
   "outputs": [
    {
     "data": {
      "text/plain": [
       "[{'name': 'Tallis', 'score': 111, 'strategy': 'Scissors'},\n",
       " {'name': 'Sam', 'score': 115, 'strategy': 'Paper'},\n",
       " {'name': 'Jose', 'score': 116, 'strategy': 'Spock'},\n",
       " {'name': 'Mark Ruffalo', 'score': 121, 'strategy': 'Scissors'}]"
      ]
     },
     "execution_count": 17,
     "metadata": {},
     "output_type": "execute_result"
    }
   ],
   "source": [
    "# final situation\n",
    "society"
   ]
  },
  {
   "cell_type": "code",
   "execution_count": 18,
   "id": "fb9a1d16",
   "metadata": {},
   "outputs": [
    {
     "data": {
      "text/html": [
       "<div>\n",
       "<style scoped>\n",
       "    .dataframe tbody tr th:only-of-type {\n",
       "        vertical-align: middle;\n",
       "    }\n",
       "\n",
       "    .dataframe tbody tr th {\n",
       "        vertical-align: top;\n",
       "    }\n",
       "\n",
       "    .dataframe thead th {\n",
       "        text-align: right;\n",
       "    }\n",
       "</style>\n",
       "<table border=\"1\" class=\"dataframe\">\n",
       "  <thead>\n",
       "    <tr style=\"text-align: right;\">\n",
       "      <th></th>\n",
       "      <th>name</th>\n",
       "      <th>score</th>\n",
       "      <th>strategy</th>\n",
       "    </tr>\n",
       "  </thead>\n",
       "  <tbody>\n",
       "    <tr>\n",
       "      <th>0</th>\n",
       "      <td>Tallis</td>\n",
       "      <td>111</td>\n",
       "      <td>Scissors</td>\n",
       "    </tr>\n",
       "    <tr>\n",
       "      <th>1</th>\n",
       "      <td>Sam</td>\n",
       "      <td>115</td>\n",
       "      <td>Paper</td>\n",
       "    </tr>\n",
       "    <tr>\n",
       "      <th>2</th>\n",
       "      <td>Jose</td>\n",
       "      <td>116</td>\n",
       "      <td>Spock</td>\n",
       "    </tr>\n",
       "    <tr>\n",
       "      <th>3</th>\n",
       "      <td>Mark Ruffalo</td>\n",
       "      <td>121</td>\n",
       "      <td>Scissors</td>\n",
       "    </tr>\n",
       "  </tbody>\n",
       "</table>\n",
       "</div>"
      ],
      "text/plain": [
       "           name  score  strategy\n",
       "0        Tallis    111  Scissors\n",
       "1           Sam    115     Paper\n",
       "2          Jose    116     Spock\n",
       "3  Mark Ruffalo    121  Scissors"
      ]
     },
     "execution_count": 18,
     "metadata": {},
     "output_type": "execute_result"
    }
   ],
   "source": [
    "# as a data frame\n",
    "socialResults=pd.DataFrame(society)\n",
    "socialResults"
   ]
  },
  {
   "cell_type": "code",
   "execution_count": 19,
   "id": "7c460334",
   "metadata": {},
   "outputs": [
    {
     "data": {
      "text/html": [
       "<div>\n",
       "<style scoped>\n",
       "    .dataframe tbody tr th:only-of-type {\n",
       "        vertical-align: middle;\n",
       "    }\n",
       "\n",
       "    .dataframe tbody tr th {\n",
       "        vertical-align: top;\n",
       "    }\n",
       "\n",
       "    .dataframe thead th {\n",
       "        text-align: right;\n",
       "    }\n",
       "</style>\n",
       "<table border=\"1\" class=\"dataframe\">\n",
       "  <thead>\n",
       "    <tr style=\"text-align: right;\">\n",
       "      <th></th>\n",
       "      <th>name</th>\n",
       "      <th>score</th>\n",
       "      <th>strategy</th>\n",
       "    </tr>\n",
       "  </thead>\n",
       "  <tbody>\n",
       "    <tr>\n",
       "      <th>3</th>\n",
       "      <td>Mark Ruffalo</td>\n",
       "      <td>121</td>\n",
       "      <td>Scissors</td>\n",
       "    </tr>\n",
       "  </tbody>\n",
       "</table>\n",
       "</div>"
      ],
      "text/plain": [
       "           name  score  strategy\n",
       "3  Mark Ruffalo    121  Scissors"
      ]
     },
     "execution_count": 19,
     "metadata": {},
     "output_type": "execute_result"
    }
   ],
   "source": [
    "winnerScore=socialResults.score.max()\n",
    "\n",
    "#social outcome\n",
    "socialResults[socialResults.score==winnerScore]"
   ]
  }
 ],
 "metadata": {
  "kernelspec": {
   "display_name": "Python 3 (ipykernel)",
   "language": "python",
   "name": "python3"
  },
  "language_info": {
   "codemirror_mode": {
    "name": "ipython",
    "version": 3
   },
   "file_extension": ".py",
   "mimetype": "text/x-python",
   "name": "python",
   "nbconvert_exporter": "python",
   "pygments_lexer": "ipython3",
   "version": "3.9.15"
  }
 },
 "nbformat": 4,
 "nbformat_minor": 5
}
